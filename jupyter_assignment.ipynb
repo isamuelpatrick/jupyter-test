{
 "cells": [
  {
   "cell_type": "markdown",
   "id": "e133e20c-5200-474b-9a7b-d5912266d51d",
   "metadata": {},
   "source": [
    "# My Jupyter Notebook on IBM Watson Studio"
   ]
  },
  {
   "cell_type": "markdown",
   "id": "31336cbd-9366-427f-a514-c15d406fdfb3",
   "metadata": {},
   "source": [
    "**Samuel Patrick Mawejje**\n",
    "<br>Senior data scientist "
   ]
  },
  {
   "cell_type": "markdown",
   "id": "d919f83e-2e20-46dc-8f6e-f6002f4d1318",
   "metadata": {},
   "source": [
    "*I am interested in data science because it gives me an opportunity to work with different IT fields and projects as all of them rely on data to execute their goals*"
   ]
  },
  {
   "cell_type": "markdown",
   "id": "3e13e965-10ec-49d5-9b9f-f2dc085cb49e",
   "metadata": {},
   "source": [
    "### The code below finds the area of a rectangle"
   ]
  },
  {
   "cell_type": "code",
   "execution_count": 5,
   "id": "ba659759-7d44-4082-bb3d-5777ec1c1c3b",
   "metadata": {},
   "outputs": [
    {
     "name": "stdout",
     "output_type": "stream",
     "text": [
      "15\n"
     ]
    }
   ],
   "source": [
    "length = 5\n",
    "width = 3\n",
    "Area = length*width\n",
    "print(Area)"
   ]
  },
  {
   "cell_type": "markdown",
   "id": "e95843ae-5558-412a-a153-a81d2902a7f4",
   "metadata": {},
   "source": [
    "1. categories of data science tasks\n",
    "-  Data management\n",
    "-  Data integration\n",
    "-  Data visualization \n",
    "-  Model building\n",
    "-  Model deployment \n",
    "-  Model monitoring and assessment\n",
    "***\n",
    "2. Components of big data\n",
    "* velocity\n",
    "* volume\n",
    "* veracity\n",
    "* variety \n",
    "* value\n",
    "***"
   ]
  },
  {
   "cell_type": "code",
   "execution_count": null,
   "id": "5db2fe9a-8321-4be5-8371-9c8bdad01dc1",
   "metadata": {},
   "outputs": [],
   "source": []
  }
 ],
 "metadata": {
  "kernelspec": {
   "display_name": "Python",
   "language": "python",
   "name": "conda-env-python-py"
  },
  "language_info": {
   "codemirror_mode": {
    "name": "ipython",
    "version": 3
   },
   "file_extension": ".py",
   "mimetype": "text/x-python",
   "name": "python",
   "nbconvert_exporter": "python",
   "pygments_lexer": "ipython3",
   "version": "3.7.12"
  }
 },
 "nbformat": 4,
 "nbformat_minor": 5
}
